{
  "nbformat": 4,
  "nbformat_minor": 0,
  "metadata": {
    "colab": {
      "provenance": [],
      "include_colab_link": true
    },
    "kernelspec": {
      "name": "python3",
      "display_name": "Python 3"
    },
    "language_info": {
      "name": "python"
    }
  },
  "cells": [
    {
      "cell_type": "markdown",
      "metadata": {
        "id": "view-in-github",
        "colab_type": "text"
      },
      "source": [
        "<a href=\"https://colab.research.google.com/github/urness/CS167Fall22Notebook4/blob/main/Notebook4.ipynb\" target=\"_parent\"><img src=\"https://colab.research.google.com/assets/colab-badge.svg\" alt=\"Open In Colab\"/></a>"
      ]
    },
    {
      "cell_type": "markdown",
      "metadata": {
        "id": "G04Rsb8TOYv1"
      },
      "source": [
        "# Notebook \\#4\n",
        "\n",
        "# Name: (your name here)\n",
        "\n"
      ]
    },
    {
      "cell_type": "code",
      "metadata": {
        "id": "fWJ8-XD8OzPx"
      },
      "source": [
        "# mount drive\n",
        "from google.colab import drive\n",
        "drive.mount('/content/drive')"
      ],
      "execution_count": null,
      "outputs": []
    },
    {
      "cell_type": "code",
      "source": [
        "# import libraries\n",
        "import sklearn\n",
        "import pandas\n",
        "from sklearn import tree\n",
        "from sklearn.model_selection import train_test_split\n",
        "from sklearn import metrics\n",
        "from sklearn import neighbors\n",
        "\n",
        "# load data\n",
        "housing_data = pandas.read_csv('/content/drive/MyDrive/CS167Fall22/Datasets/HousingData.csv')\n"
      ],
      "metadata": {
        "id": "pe1OVnLdXSjK"
      },
      "execution_count": null,
      "outputs": []
    },
    {
      "cell_type": "markdown",
      "source": [
        "# Part 1: Clean and normalize the Data\n",
        "Clean and normalize the data (use the StandardScalar from sklearn). Replace any null values with the average of the columns. Verify that there are no null values by printing out the results of `housing_data.isna().any()`"
      ],
      "metadata": {
        "id": "-UlRnBhx02Uy"
      }
    },
    {
      "cell_type": "code",
      "source": [
        "# clean data here!!!\n",
        "housing_data.isna().any() # look at all of these columns with null values!"
      ],
      "metadata": {
        "id": "eLtZ-P3YZazA"
      },
      "execution_count": null,
      "outputs": []
    },
    {
      "cell_type": "markdown",
      "source": [
        "## Part 2: Using scikit learn (sklearn)\n",
        "You must run at least 6 variations of the algorithms and display their results using an appropriate regression metric (again, use the scikit-learn modules). I will be looking for the following to be included in your comparison:\n",
        "\n",
        "*   k-Nearest-Neighbor with a **small value of k**\n",
        "*   k-Nearest-Neighbor with a **large value of k**\n",
        "*   **weighted k-Nearest-Neighbor** with a **small value of k** (the same one you used for the unweighted version)\n",
        "*  **weighted k-Nearest-Neighbor** with a **large value of k** (the same one you used for the unweighted version) \n",
        "*   a **decision tree with default** parameter values\n",
        "*   a **decision tree**, setting some kind of parameter that results in a **smaller tree**\n",
        "\n",
        "You will need to use the documentation for sklearn for this Notebook. Here are some helpful links:\n",
        "* [K Neighbors Regressor](https://scikit-learn.org/stable/modules/generated/sklearn.neighbors.KNeighborsRegressor.html)\n",
        "* [Decision Tree Regressor](https://scikit-learn.org/stable/modules/generated/sklearn.tree.DecisionTreeRegressor.html) \n"
      ],
      "metadata": {
        "id": "fuRLnD970rbJ"
      }
    },
    {
      "cell_type": "code",
      "metadata": {
        "id": "exaUcSQxI5FU"
      },
      "source": [
        "# Split the data into the training data and testing data\n",
        "target= 'MEDV'\n",
        "predictors = housing_data.columns.drop(target) # use all of the columns except for MEDV\n",
        "train_data, test_data, train_sln, test_sln = train_test_split(housing_data[predictors], housing_data[target], test_size = 0.2, random_state=41)\n",
        "train_data.head()"
      ],
      "execution_count": null,
      "outputs": []
    },
    {
      "cell_type": "code",
      "metadata": {
        "id": "MpuWbT-NOUx8"
      },
      "source": [
        "# kNN with small k"
      ],
      "execution_count": null,
      "outputs": []
    },
    {
      "cell_type": "code",
      "metadata": {
        "id": "o1q07BzTOjnE"
      },
      "source": [
        "# kNN with large k"
      ],
      "execution_count": null,
      "outputs": []
    },
    {
      "cell_type": "code",
      "metadata": {
        "id": "m0Wc76gfOnQL"
      },
      "source": [
        "# w-knn with small k"
      ],
      "execution_count": null,
      "outputs": []
    },
    {
      "cell_type": "code",
      "metadata": {
        "id": "k5rFt9wkOqKF"
      },
      "source": [
        "# w-knn with large k"
      ],
      "execution_count": null,
      "outputs": []
    },
    {
      "cell_type": "code",
      "metadata": {
        "id": "S5kncBKlOrhc"
      },
      "source": [
        "# decision tree with default paramters"
      ],
      "execution_count": null,
      "outputs": []
    },
    {
      "cell_type": "code",
      "metadata": {
        "id": "7QDjUeiyOt53"
      },
      "source": [
        "# decision tree with some kind of parameter that (hopefully) results in a smaller tree"
      ],
      "execution_count": null,
      "outputs": []
    },
    {
      "cell_type": "markdown",
      "metadata": {
        "id": "O_1BW2sPPNro"
      },
      "source": [
        "## Part 3: Conclusions\n",
        "What algorithm performed better? kNN or Decision Trees? Why do you think this was the case?"
      ]
    },
    {
      "cell_type": "markdown",
      "source": [
        "\n"
      ],
      "metadata": {
        "id": "k9Ym9oL116Qy"
      }
    }
  ]
}